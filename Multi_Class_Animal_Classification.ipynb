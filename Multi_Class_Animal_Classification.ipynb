{
  "nbformat": 4,
  "nbformat_minor": 0,
  "metadata": {
    "colab": {
      "provenance": [],
      "gpuType": "T4",
      "authorship_tag": "ABX9TyM94Vy/6XJKje555H0hPz+B",
      "include_colab_link": true
    },
    "kernelspec": {
      "name": "python3",
      "display_name": "Python 3"
    },
    "language_info": {
      "name": "python"
    },
    "accelerator": "GPU"
  },
  "cells": [
    {
      "cell_type": "markdown",
      "metadata": {
        "id": "view-in-github",
        "colab_type": "text"
      },
      "source": [
        "<a href=\"https://colab.research.google.com/github/Aarya1105/aiml1/blob/main/Multi_Class_Animal_Classification.ipynb\" target=\"_parent\"><img src=\"https://colab.research.google.com/assets/colab-badge.svg\" alt=\"Open In Colab\"/></a>"
      ]
    },
    {
      "cell_type": "code",
      "execution_count": 1,
      "metadata": {
        "colab": {
          "base_uri": "https://localhost:8080/"
        },
        "id": "IL41wFRHWwWD",
        "outputId": "51877098-960f-4503-8cb4-8927024d9323"
      },
      "outputs": [
        {
          "output_type": "stream",
          "name": "stdout",
          "text": [
            "Path to dataset files: /kaggle/input/animal-image-dataset-90-different-animals\n"
          ]
        }
      ],
      "source": [
        "import kagglehub\n",
        "\n",
        "# Download latest version\n",
        "path = kagglehub.dataset_download(\"iamsouravbanerjee/animal-image-dataset-90-different-animals\")\n",
        "\n",
        "print(\"Path to dataset files:\", path)"
      ]
    },
    {
      "cell_type": "code",
      "source": [
        "# Importing necessary libraries\n",
        "import os\n",
        "import numpy as np\n",
        "import matplotlib.pyplot as plt\n",
        "import tensorflow as tf\n",
        "from tensorflow.keras.preprocessing.image import ImageDataGenerator\n",
        "from tensorflow.keras.applications import MobileNetV2\n",
        "from tensorflow.keras.layers import Dense, GlobalAveragePooling2D, Dropout\n",
        "from tensorflow.keras.models import Model\n",
        "from tensorflow.keras.optimizers import Adam\n",
        "from sklearn.metrics import classification_report"
      ],
      "metadata": {
        "id": "z0HwTsl1ZQX8"
      },
      "execution_count": 2,
      "outputs": []
    },
    {
      "cell_type": "code",
      "source": [
        "# Ensuring the GPU is being used\n",
        "physical_devices = tf.config.experimental.list_physical_devices('GPU')\n",
        "if len(physical_devices) > 0:\n",
        "    tf.config.experimental.set_memory_growth(physical_devices[0], True)\n",
        "    print('GPU is being used.')\n",
        "else:\n",
        "    print('GPU is not being used.')"
      ],
      "metadata": {
        "colab": {
          "base_uri": "https://localhost:8080/"
        },
        "id": "yP0ZhKvWZYbM",
        "outputId": "2de42128-9331-4324-d832-bf540d598261"
      },
      "execution_count": 3,
      "outputs": [
        {
          "output_type": "stream",
          "name": "stdout",
          "text": [
            "GPU is being used.\n"
          ]
        }
      ]
    },
    {
      "cell_type": "code",
      "source": [
        "# Path to the dataset\n",
        "dataset_path = \"/kaggle/input/animal-image-dataset-90-different-animals\"\n",
        "\n",
        "# Path to the \"name of the animals.txt\" file\n",
        "file_path = os.path.join(dataset_path, \"name of the animals.txt\")\n",
        "\n",
        "# Read the contents of the file\n",
        "with open(file_path, \"r\") as file:\n",
        "    contents = file.read()\n",
        "\n",
        "# Print the contents\n",
        "print(contents)"
      ],
      "metadata": {
        "colab": {
          "base_uri": "https://localhost:8080/"
        },
        "id": "Jcr_0c0YZbXr",
        "outputId": "6bfccbd7-9c22-4771-c512-70369a26743c"
      },
      "execution_count": 4,
      "outputs": [
        {
          "output_type": "stream",
          "name": "stdout",
          "text": [
            "antelope\n",
            "badger\n",
            "bat\n",
            "bear\n",
            "bee\n",
            "beetle\n",
            "bison\n",
            "boar\n",
            "butterfly\n",
            "cat\n",
            "caterpillar\n",
            "chimpanzee\n",
            "cockroach\n",
            "cow\n",
            "coyote\n",
            "crab\n",
            "crow\n",
            "deer\n",
            "dog\n",
            "dolphin\n",
            "donkey\n",
            "dragonfly\n",
            "duck\n",
            "eagle\n",
            "elephant\n",
            "flamingo\n",
            "fly\n",
            "fox\n",
            "goat\n",
            "goldfish\n",
            "goose\n",
            "gorilla\n",
            "grasshopper\n",
            "hamster\n",
            "hare\n",
            "hedgehog\n",
            "hippopotamus\n",
            "hornbill\n",
            "horse\n",
            "hummingbird\n",
            "hyena\n",
            "jellyfish\n",
            "kangaroo\n",
            "koala\n",
            "ladybugs\n",
            "leopard\n",
            "lion\n",
            "lizard\n",
            "lobster\n",
            "mosquito\n",
            "moth\n",
            "mouse\n",
            "octopus\n",
            "okapi\n",
            "orangutan\n",
            "otter\n",
            "owl\n",
            "ox\n",
            "oyster\n",
            "panda\n",
            "parrot\n",
            "pelecaniformes\n",
            "penguin\n",
            "pig\n",
            "pigeon\n",
            "porcupine\n",
            "possum\n",
            "raccoon\n",
            "rat\n",
            "reindeer\n",
            "rhinoceros\n",
            "sandpiper\n",
            "seahorse\n",
            "seal\n",
            "shark\n",
            "sheep\n",
            "snake\n",
            "sparrow\n",
            "squid\n",
            "squirrel\n",
            "starfish\n",
            "swan\n",
            "tiger\n",
            "turkey\n",
            "turtle\n",
            "whale\n",
            "wolf\n",
            "wombat\n",
            "woodpecker\n",
            "zebra\n"
          ]
        }
      ]
    },
    {
      "cell_type": "code",
      "source": [
        "# Visualize some sample images form the dataset\n",
        "plt.figure(figsize=(15,10))\n",
        "\n",
        "# Assuming 'animals' is the directory containing the image folders\n",
        "image_folder = os.path.join(dataset_path, 'animals')\n",
        "\n",
        "# Get the list of class folders (subdirectories within 'animals')\n",
        "classes = [d for d in os.listdir(image_folder) if os.path.isdir(os.path.join(image_folder, d))]\n",
        "\n",
        "for i, class_name in enumerate(classes[:10]):\n",
        "  class_path = os.path.join(image_folder, class_name) # Path to the specific class folder\n",
        "  # Get a list of all image files in the class directory\n",
        "  image_files = [f for f in os.listdir(class_path) if os.path.isfile(os.path.join(class_path, f))]\n",
        "  # Select the first image file (if any)\n",
        "  if image_files:\n",
        "    img_name = image_files[0]\n",
        "    img_path = os.path.join(class_path, img_name)\n",
        "    img = plt.imread(img_path)\n",
        "\n",
        "    plt.subplot(2, 5, i+1)\n",
        "    plt.imshow(img)\n",
        "    plt.title(f'{class_name} \\n shape: {img.shape}')\n",
        "    plt.axis('off')\n",
        "plt.show()"
      ],
      "metadata": {
        "colab": {
          "base_uri": "https://localhost:8080/",
          "height": 34
        },
        "id": "oAZTnkhkdtwt",
        "outputId": "e9977655-d420-49c7-8b33-966b264968c9"
      },
      "execution_count": 5,
      "outputs": [
        {
          "output_type": "display_data",
          "data": {
            "text/plain": [
              "<Figure size 1500x1000 with 0 Axes>"
            ]
          },
          "metadata": {}
        }
      ]
    }
  ]
}